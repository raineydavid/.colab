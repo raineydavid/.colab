{
  "nbformat": 4,
  "nbformat_minor": 0,
  "metadata": {
    "kernelspec": {
      "display_name": "Python 3",
      "language": "python",
      "name": "python3"
    },
    "language_info": {
      "codemirror_mode": {
        "name": "ipython",
        "version": 3
      },
      "file_extension": ".py",
      "mimetype": "text/x-python",
      "name": "python",
      "nbconvert_exporter": "python",
      "pygments_lexer": "ipython3",
      "version": "3.6.7"
    },
    "colab": {
      "name": "02_EDA.ipynb",
      "provenance": []
    }
  },
  "cells": [
    {
      "cell_type": "markdown",
      "metadata": {
        "pycharm": {},
        "id": "fkgY4U40G-c-"
      },
      "source": [
        "# Exploratory Data Analysis\n",
        "\n",
        "In this notebook you will explore the citation dataset. You should already have installed py2neo, pandas, and matplotlib when setting up our environment, so you will now import them (remember to unset Reset all runtimes before running):"
      ]
    },
    {
      "cell_type": "markdown",
      "metadata": {
        "id": "V9C1IOZxI1JL"
      },
      "source": [
        "<table class=\"tfo-notebook-buttons\" align=\"left\"><td>\n",
        "<a target=\"_blank\"  href=\"http://colab.research.google.com/github/neo4j-contrib/training-v2/blob/master/Courses/DataScience/notebooks/02_EDA.ipynb\">\n",
        "    <img src=\"https://www.tensorflow.org/images/colab_logo_32px.png\" />Run in Google Colab</a>  \n",
        "</td><td>\n",
        "<a target=\"_blank\"  href=\"https://github.com/neo4j-contrib/training-v2/blob/master/Courses/DataScience/notebooks/02_EDA.ipynb\"><img width=32px src=\"https://www.tensorflow.org/images/GitHub-Mark-32px.png\" />View source on GitHub</a></td></table>"
      ]
    },
    {
      "cell_type": "code",
      "metadata": {
        "pycharm": {},
        "id": "DJSyWOpmG-dG"
      },
      "source": [
        "from py2neo import Graph\n",
        "import pandas as pd\n",
        "\n",
        "import matplotlib \n",
        "import matplotlib.pyplot as plt\n",
        "\n",
        "plt.style.use('fivethirtyeight')\n",
        "pd.set_option('display.float_format', lambda x: '%.3f' % x)"
      ],
      "execution_count": null,
      "outputs": []
    },
    {
      "cell_type": "markdown",
      "metadata": {
        "pycharm": {},
        "id": "WN_I2X2cG-dI"
      },
      "source": [
        "Next, create a connection to your Neo4j Sandbox, just as you did previously when you set up your environment. \n",
        "\n",
        "<div align=\"left\">\n",
        "    <img src=\"https://github.com/neo4j-contrib/training-v2/blob/master/Courses/DataScience/notebooks/images/sandbox-citations.png?raw=1\" alt=\"Citation Sandbox\"/>\n",
        "</div>\n",
        "\n",
        "Update the cell below to use the IP Address, Bolt Port, and Password, as you did previously."
      ]
    },
    {
      "cell_type": "code",
      "metadata": {
        "pycharm": {},
        "id": "iQgZyNbPG-dI"
      },
      "source": [
        "# Change the line of code below to use the IP Address, Bolt Port, and Password of your Sandbox.\n",
        "# graph = Graph(\"bolt://<IP Address>:<Bolt Port>\", auth=(\"neo4j\", \"<Password>\")) \n",
        " \n",
        "graph = Graph(\"bolt://52.3.242.176:33698\", auth=(\"neo4j\", \"equivalent-listing-parts\"))"
      ],
      "execution_count": null,
      "outputs": []
    },
    {
      "cell_type": "markdown",
      "metadata": {
        "pycharm": {},
        "id": "MNowzfnMG-dI"
      },
      "source": [
        "## What's in our database?\n",
        "\n",
        "Run the following query to check how many nodes our database contains:"
      ]
    },
    {
      "cell_type": "code",
      "metadata": {
        "pycharm": {},
        "id": "2kP_6UJjG-dI"
      },
      "source": [
        "graph.run(\"CALL db.schema()\").data()"
      ],
      "execution_count": null,
      "outputs": []
    },
    {
      "cell_type": "markdown",
      "metadata": {
        "pycharm": {},
        "id": "MYYObhBiG-dJ"
      },
      "source": [
        "If we run that query (CALL db.schema()) in  Neo4j Browser, you see the following visualisation:\n",
        "\n",
        "<img src=\"https://github.com/neo4j-contrib/training-v2/blob/master/Courses/DataScience/notebooks/images/data-science-training.png?raw=1\" alt=\"Graph Data Model\"/>\n"
      ]
    },
    {
      "cell_type": "markdown",
      "metadata": {
        "pycharm": {},
        "id": "F02r6Fi7G-dJ"
      },
      "source": [
        "Let's drill down a bit. How many nodes do we have for each of these labels? Run this code:"
      ]
    },
    {
      "cell_type": "code",
      "metadata": {
        "pycharm": {},
        "id": "Y7xJe9ESG-dJ",
        "outputId": "9c71c73a-f7a3-4a87-bd3a-cc7b9ee9908d"
      },
      "source": [
        "result = {\"label\": [], \"count\": []}\n",
        "for label in graph.run(\"CALL db.labels()\").to_series():\n",
        "    query = f\"MATCH (:`{label}`) RETURN count(*) as count\"\n",
        "    count = graph.run(query).to_data_frame().iloc[0]['count']\n",
        "    result[\"label\"].append(label)\n",
        "    result[\"count\"].append(count)\n",
        "nodes_df = pd.DataFrame(data=result)\n",
        "nodes_df.sort_values(\"count\")"
      ],
      "execution_count": null,
      "outputs": [
        {
          "data": {
            "text/html": [
              "<div>\n",
              "<style scoped>\n",
              "    .dataframe tbody tr th:only-of-type {\n",
              "        vertical-align: middle;\n",
              "    }\n",
              "\n",
              "    .dataframe tbody tr th {\n",
              "        vertical-align: top;\n",
              "    }\n",
              "\n",
              "    .dataframe thead th {\n",
              "        text-align: right;\n",
              "    }\n",
              "</style>\n",
              "<table border=\"1\" class=\"dataframe\">\n",
              "  <thead>\n",
              "    <tr style=\"text-align: right;\">\n",
              "      <th></th>\n",
              "      <th>label</th>\n",
              "      <th>count</th>\n",
              "    </tr>\n",
              "  </thead>\n",
              "  <tbody>\n",
              "    <tr>\n",
              "      <th>2</th>\n",
              "      <td>Venue</td>\n",
              "      <td>4</td>\n",
              "    </tr>\n",
              "    <tr>\n",
              "      <th>0</th>\n",
              "      <td>Article</td>\n",
              "      <td>51956</td>\n",
              "    </tr>\n",
              "    <tr>\n",
              "      <th>1</th>\n",
              "      <td>Author</td>\n",
              "      <td>80299</td>\n",
              "    </tr>\n",
              "  </tbody>\n",
              "</table>\n",
              "</div>"
            ],
            "text/plain": [
              "     label  count\n",
              "2    Venue      4\n",
              "0  Article  51956\n",
              "1   Author  80299"
            ]
          },
          "execution_count": 22,
          "metadata": {},
          "output_type": "execute_result"
        }
      ]
    },
    {
      "cell_type": "markdown",
      "metadata": {
        "pycharm": {},
        "id": "xjwbp-3qG-dM"
      },
      "source": [
        "You can visualize the counts using matplotlib> Run the following code:"
      ]
    },
    {
      "cell_type": "code",
      "metadata": {
        "pycharm": {},
        "id": "AFC9MNoPG-dM"
      },
      "source": [
        "nodes_df.plot(kind='bar', x='label', y='count', legend=None, title=\"Node Cardinalities\")\n",
        "plt.yscale(\"log\")\n",
        "plt.xticks(rotation=45)\n",
        "plt.tight_layout()\n",
        "plt.show()"
      ],
      "execution_count": null,
      "outputs": []
    },
    {
      "cell_type": "markdown",
      "metadata": {
        "pycharm": {},
        "id": "6N5A4uvWG-dM"
      },
      "source": [
        "What types of relationships do we have in our graph? Run this code:"
      ]
    },
    {
      "cell_type": "code",
      "metadata": {
        "pycharm": {},
        "id": "w07CltYXG-dO"
      },
      "source": [
        "result = {\"relType\": [], \"count\": []}\n",
        "for relationship_type in graph.run(\"CALL db.relationshipTypes()\").to_series():\n",
        "    query = f\"MATCH ()-[:`{relationship_type}`]->() RETURN count(*) as count\"\n",
        "    count = graph.run(query).to_data_frame().iloc[0]['count']\n",
        "    result[\"relType\"].append(relationship_type)\n",
        "    result[\"count\"].append(count)\n",
        "rels_df = pd.DataFrame(data=result)\n",
        "rels_df.sort_values(\"count\")"
      ],
      "execution_count": null,
      "outputs": []
    },
    {
      "cell_type": "markdown",
      "metadata": {
        "pycharm": {},
        "id": "jF9Y77vYG-dO"
      },
      "source": [
        "You can visualize the counts using matplotlib. Run  the following code:"
      ]
    },
    {
      "cell_type": "code",
      "metadata": {
        "pycharm": {},
        "id": "asfk1QggG-dY"
      },
      "source": [
        "rels_df.plot(kind='bar', x='relType', y='count', legend=None, title=\"Relationship Cardinalities\")\n",
        "plt.xticks(rotation=45)\n",
        "plt.tight_layout()\n",
        "plt.show()"
      ],
      "execution_count": null,
      "outputs": []
    },
    {
      "cell_type": "markdown",
      "metadata": {
        "pycharm": {},
        "id": "vs5Q9tBTG-dZ"
      },
      "source": [
        "Now let's explore the citation data. The following query finds 25 authors, articles, venues, and also shows the number of articles that article has cited, as well as the number of articles that it's been cited by.\n",
        "Run this code:"
      ]
    },
    {
      "cell_type": "code",
      "metadata": {
        "pycharm": {},
        "id": "dBg1KuEmG-dZ"
      },
      "source": [
        "exploratory_query = \"\"\"\n",
        "MATCH (author:Author)<-[:AUTHOR]-(article:Article)-[:VENUE]->(venue)\n",
        "RETURN article.title AS article, author.name AS author, venue.name AS venue, \n",
        "       size((article)-[:CITED]->()) AS citationsGiven, size((article)<-[:CITED]-()) AS citationsReceived\n",
        "ORDER BY rand()\n",
        "LIMIT 25\n",
        "\"\"\"\n",
        "\n",
        "graph.run(exploratory_query).to_data_frame()"
      ],
      "execution_count": null,
      "outputs": []
    },
    {
      "cell_type": "markdown",
      "metadata": {
        "pycharm": {},
        "id": "bnhU1XbpG-dZ"
      },
      "source": [
        "Let's look into the citation data more closely. Here is a query that returns the number of citations that each article has, and then creates a distribution of those counts using pandas `describe` function. Run this code:"
      ]
    },
    {
      "cell_type": "code",
      "metadata": {
        "pycharm": {},
        "id": "nqt51MJrG-dZ",
        "outputId": "b03cd6c6-a3b9-4850-d4f6-4ab7c4dfc919"
      },
      "source": [
        "query = \"\"\"\n",
        "MATCH (a:Article)\n",
        "RETURN size((a)<-[:CITED]-()) AS citations\n",
        "\"\"\"\n",
        "\n",
        "citation_df = graph.run(query).to_data_frame()\n",
        "citation_df.describe([.25, .5, .75, .9, .99])"
      ],
      "execution_count": null,
      "outputs": [
        {
          "data": {
            "text/html": [
              "<div>\n",
              "<style scoped>\n",
              "    .dataframe tbody tr th:only-of-type {\n",
              "        vertical-align: middle;\n",
              "    }\n",
              "\n",
              "    .dataframe tbody tr th {\n",
              "        vertical-align: top;\n",
              "    }\n",
              "\n",
              "    .dataframe thead th {\n",
              "        text-align: right;\n",
              "    }\n",
              "</style>\n",
              "<table border=\"1\" class=\"dataframe\">\n",
              "  <thead>\n",
              "    <tr style=\"text-align: right;\">\n",
              "      <th></th>\n",
              "      <th>citations</th>\n",
              "    </tr>\n",
              "  </thead>\n",
              "  <tbody>\n",
              "    <tr>\n",
              "      <th>count</th>\n",
              "      <td>51956.000</td>\n",
              "    </tr>\n",
              "    <tr>\n",
              "      <th>mean</th>\n",
              "      <td>0.553</td>\n",
              "    </tr>\n",
              "    <tr>\n",
              "      <th>std</th>\n",
              "      <td>2.418</td>\n",
              "    </tr>\n",
              "    <tr>\n",
              "      <th>min</th>\n",
              "      <td>0.000</td>\n",
              "    </tr>\n",
              "    <tr>\n",
              "      <th>25%</th>\n",
              "      <td>0.000</td>\n",
              "    </tr>\n",
              "    <tr>\n",
              "      <th>50%</th>\n",
              "      <td>0.000</td>\n",
              "    </tr>\n",
              "    <tr>\n",
              "      <th>75%</th>\n",
              "      <td>0.000</td>\n",
              "    </tr>\n",
              "    <tr>\n",
              "      <th>90%</th>\n",
              "      <td>1.000</td>\n",
              "    </tr>\n",
              "    <tr>\n",
              "      <th>99%</th>\n",
              "      <td>8.000</td>\n",
              "    </tr>\n",
              "    <tr>\n",
              "      <th>max</th>\n",
              "      <td>211.000</td>\n",
              "    </tr>\n",
              "  </tbody>\n",
              "</table>\n",
              "</div>"
            ],
            "text/plain": [
              "       citations\n",
              "count  51956.000\n",
              "mean       0.553\n",
              "std        2.418\n",
              "min        0.000\n",
              "25%        0.000\n",
              "50%        0.000\n",
              "75%        0.000\n",
              "90%        1.000\n",
              "99%        8.000\n",
              "max      211.000"
            ]
          },
          "execution_count": 20,
          "metadata": {},
          "output_type": "execute_result"
        }
      ]
    },
    {
      "cell_type": "markdown",
      "metadata": {
        "pycharm": {},
        "id": "utUMFs9YG-d5"
      },
      "source": [
        "Most articles are being cited very few times. 99% of articles have 8 citations or less. We do, however, have one article that's been cited more than 200 times. We'll use a log scale histogram to visualise the data. Run this code:"
      ]
    },
    {
      "cell_type": "code",
      "metadata": {
        "pycharm": {},
        "id": "OS8VddByG-d5",
        "outputId": "99b22960-603f-4855-967d-269efa842997"
      },
      "source": [
        "fig1, ax1 = plt.subplots()\n",
        "ax1.hist(pd.Series(citation_df['citations'].dropna()), 1250, density=True, facecolor='g', alpha=0.75)\n",
        "ax1.set_xscale(\"log\")\n",
        "plt.tight_layout()\n",
        "plt.show()"
      ],
      "execution_count": null,
      "outputs": [
        {
          "data": {
            "image/png": "[encoded data removed]",
            "text/plain": [
              "<Figure size 432x288 with 1 Axes>"
            ]
          },
          "metadata": {},
          "output_type": "display_data"
        }
      ]
    },
    {
      "cell_type": "markdown",
      "metadata": {
        "pycharm": {},
        "id": "TXhKM_izG-d5"
      },
      "source": [
        "## Exercise instructions\n",
        "\n",
        "1. Create a similar query showing the articles that cite the most other papers? Note that you'll only need to do a slight tweak of the Cypher query to do this. \n",
        "2. What about a distribution of the number of articles published by authors?\n",
        "\n",
        "Keep the results of this exercise handy as they may be useful for the quiz at the end of this module."
      ]
    }
  ]
}